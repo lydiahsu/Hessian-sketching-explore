{
 "cells": [
  {
   "cell_type": "code",
   "execution_count": 1,
   "metadata": {
    "collapsed": true
   },
   "outputs": [],
   "source": [
    "import numpy as np\n",
    "import numpy.random as npr\n",
    "import numpy.linalg as npla\n",
    "import scipy as sp\n",
    "import scipy.linalg as spla\n",
    "\n",
    "import ihs"
   ]
  },
  {
   "cell_type": "code",
   "execution_count": 13,
   "metadata": {},
   "outputs": [
    {
     "data": {
      "text/plain": [
       "<module 'ihs' from 'ihs.py'>"
      ]
     },
     "execution_count": 13,
     "metadata": {},
     "output_type": "execute_result"
    }
   ],
   "source": [
    "reload(ihs)"
   ]
  },
  {
   "cell_type": "code",
   "execution_count": 2,
   "metadata": {
    "collapsed": true
   },
   "outputs": [],
   "source": [
    "n = 50000\n",
    "p = 100\n",
    "A = npr.normal(size=(n, p))\n",
    "y = npr.normal(size=n)"
   ]
  },
  {
   "cell_type": "code",
   "execution_count": 3,
   "metadata": {
    "collapsed": true
   },
   "outputs": [],
   "source": [
    "x_ols = ihs.ols(y, A)"
   ]
  },
  {
   "cell_type": "code",
   "execution_count": 19,
   "metadata": {},
   "outputs": [],
   "source": [
    "x_cs = ihs.classical_sketch(y, A, 24 * p, sketch_type=\"subsample\")"
   ]
  },
  {
   "cell_type": "code",
   "execution_count": 20,
   "metadata": {
    "collapsed": true
   },
   "outputs": [],
   "source": [
    "x_hs = ihs.hessian_sketch(y, A, 24 * p, sketch_type=\"subsample\")"
   ]
  },
  {
   "cell_type": "code",
   "execution_count": 21,
   "metadata": {},
   "outputs": [],
   "source": [
    "x_ihs = ihs.iterative_hessian_sketch(y, A, 6 * p, 4, sketch_type=\"subsample\")"
   ]
  },
  {
   "cell_type": "code",
   "execution_count": 26,
   "metadata": {},
   "outputs": [
    {
     "name": "stdout",
     "output_type": "stream",
     "text": [
      "0.21330115631314875\n",
      "0.009185198694858043\n",
      "0.004746985170568139\n",
      "0.02144370589084009\n",
      "0.0009218495113455377\n",
      "0.00047783301082874317\n"
     ]
    }
   ],
   "source": [
    "print ihs.pred_error(x_ols, x_cs, A)\n",
    "print ihs.pred_error(x_ols, x_hs, A)\n",
    "print ihs.pred_error(x_ols, x_ihs, A)\n",
    "\n",
    "print ihs.mse_error(x_ols, x_cs)\n",
    "print ihs.mse_error(x_ols, x_hs)\n",
    "print ihs.mse_error(x_ols, x_ihs)"
   ]
  },
  {
   "cell_type": "markdown",
   "metadata": {},
   "source": [
    "## Choices of sketch matrices"
   ]
  },
  {
   "cell_type": "code",
   "execution_count": null,
   "metadata": {
    "collapsed": true
   },
   "outputs": [],
   "source": []
  }
 ],
 "metadata": {
  "kernelspec": {
   "display_name": "Python 2",
   "language": "python",
   "name": "python2"
  },
  "language_info": {
   "codemirror_mode": {
    "name": "ipython",
    "version": 2
   },
   "file_extension": ".py",
   "mimetype": "text/x-python",
   "name": "python",
   "nbconvert_exporter": "python",
   "pygments_lexer": "ipython2",
   "version": "2.7.15"
  }
 },
 "nbformat": 4,
 "nbformat_minor": 2
}
